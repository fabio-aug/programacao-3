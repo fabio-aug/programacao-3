{
 "cells": [
  {
   "cell_type": "markdown",
   "id": "e0d847fe",
   "metadata": {},
   "source": [
    "Ativdade 1"
   ]
  },
  {
   "cell_type": "code",
   "execution_count": null,
   "id": "6197db97",
   "metadata": {},
   "outputs": [],
   "source": [
    "x = int(input(\"Informe a quantidade de cópias: \"));\n",
    "y = 0.0;\n",
    "if (x < 2):\n",
    "    y = 0.10 * x;\n",
    "elif (x > 2 and x <=10):\n",
    "    print()\n",
    "    y = 0.08 * x;\n",
    "elif (x > 10 and x <= 100):\n",
    "    y = 0.06 * x;\n",
    "else:\n",
    "    y = 0.04 * x;\n",
    "\n",
    "print(\"O valor a ser pago é: \", y);"
   ]
  },
  {
   "cell_type": "markdown",
   "id": "eae28037",
   "metadata": {},
   "source": [
    "Atividade 2"
   ]
  },
  {
   "cell_type": "code",
   "execution_count": null,
   "id": "e245fa49",
   "metadata": {
    "scrolled": true
   },
   "outputs": [],
   "source": [
    "x = 0;\n",
    "while (x < 10):\n",
    "    print(x);\n",
    "    x += 1;"
   ]
  },
  {
   "cell_type": "markdown",
   "id": "03162850",
   "metadata": {},
   "source": [
    "Atividade 3"
   ]
  },
  {
   "cell_type": "code",
   "execution_count": null,
   "id": "90d0d87c",
   "metadata": {},
   "outputs": [],
   "source": [
    "x = int(input(\"Informe a quantidade de cópias: \"));\n",
    "while (x < 0):\n",
    "    x = int(input(\"Valor inválido - Informe um valor positivo: \"));\n",
    "y = 0.0;\n",
    "if (x < 2):\n",
    "    y = 0.10 * x;\n",
    "elif (x > 2 and x <=10):\n",
    "    print()\n",
    "    y = 0.08 * x;\n",
    "elif (x > 10 and x <= 100):\n",
    "    y = 0.06 * x;\n",
    "else:\n",
    "    y = 0.04 * x;\n",
    "\n",
    "print(\"O valor a ser pago é: \", y);"
   ]
  },
  {
   "cell_type": "code",
   "execution_count": null,
   "id": "7ff0b181",
   "metadata": {},
   "outputs": [],
   "source": []
  }
 ],
 "metadata": {
  "kernelspec": {
   "display_name": "Python 3",
   "language": "python",
   "name": "python3"
  },
  "language_info": {
   "codemirror_mode": {
    "name": "ipython",
    "version": 3
   },
   "file_extension": ".py",
   "mimetype": "text/x-python",
   "name": "python",
   "nbconvert_exporter": "python",
   "pygments_lexer": "ipython3",
   "version": "3.8.8"
  }
 },
 "nbformat": 4,
 "nbformat_minor": 5
}
