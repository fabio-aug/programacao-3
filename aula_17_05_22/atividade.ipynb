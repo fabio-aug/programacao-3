{
 "cells": [
  {
   "cell_type": "code",
   "execution_count": 19,
   "id": "753f5232",
   "metadata": {},
   "outputs": [],
   "source": [
    "class Stack:\n",
    "    def __init__(self, maxLen):\n",
    "        self.__maxLen = maxLen\n",
    "        self.__pilha = []\n",
    "        \n",
    "    def push(self, value):\n",
    "        if (len(self.__pilha) < self.__maxLen):\n",
    "            self.__pilha.append(value)\n",
    "    \n",
    "    def pop(self):\n",
    "        value = self.__pilha.pop()\n",
    "        return value\n",
    "    \n",
    "    def __str__(self):\n",
    "        return str(f\"Pilha: {self.__pilha}\")"
   ]
  },
  {
   "cell_type": "code",
   "execution_count": 44,
   "id": "e71e9c61",
   "metadata": {},
   "outputs": [],
   "source": [
    "class Pilha:\n",
    "    def __init__(self, maxLen):\n",
    "        self.__pilha = [0] * maxLen\n",
    "        self.__topo = 0\n",
    "        \n",
    "    def push(self, value):\n",
    "        if (self.__topo < len(self.__pilha)):\n",
    "            self.__pilha[self.__topo] = value\n",
    "            self.__topo = self.__topo + 1\n",
    "        else:\n",
    "            print(\"Pilha cheia!\")\n",
    "    \n",
    "    def pop(self):\n",
    "        if (self.__topo > 0):\n",
    "            index = self.__topo - 1\n",
    "            value = self.__pilha[index]\n",
    "            self.__pilha[index] = ''\n",
    "            self.__topo = index\n",
    "            return value\n",
    "        else:\n",
    "            print(\"Pilha vazia!\")\n",
    "\n",
    "    def isEmpty(self):\n",
    "        return self.__topo == 0\n",
    "    \n",
    "    def __str__(self):\n",
    "        return str(f\"Pilha: {self.__pilha} Topo: {self.__topo}\")"
   ]
  },
  {
   "cell_type": "code",
   "execution_count": 45,
   "id": "cb74d72f",
   "metadata": {},
   "outputs": [
    {
     "name": "stdout",
     "output_type": "stream",
     "text": [
      "Pilha cheia!\n",
      "Pilha cheia!\n",
      "Pilha cheia!\n",
      "Pilha cheia!\n",
      "Pilha cheia!\n",
      "Pilha: [0, 1, 2, 3, 4] Topo: 5\n",
      "4\n",
      "Pilha: [0, 1, 2, '', ''] Topo: 3\n",
      "Pilha: [0, 1, 2, 90, ''] Topo: 4\n",
      "Pilha vazia!\n",
      "Pilha: ['', '', '', '', ''] Topo: 0\n",
      "True\n"
     ]
    }
   ],
   "source": [
    "teste = Pilha(5)\n",
    "\n",
    "for i in range(0,10,1):\n",
    "    teste.push(i)\n",
    "\n",
    "print(teste)\n",
    "\n",
    "value = teste.pop()\n",
    "print(value)\n",
    "value = teste.pop()\n",
    "print(teste)\n",
    "teste.push(90)\n",
    "print(teste)\n",
    "value = teste.pop()\n",
    "value = teste.pop()\n",
    "value = teste.pop()\n",
    "value = teste.pop()\n",
    "value = teste.pop()\n",
    "print(teste)\n",
    "\n",
    "print(teste.isEmpty())"
   ]
  },
  {
   "cell_type": "code",
   "execution_count": null,
   "id": "adce63dc",
   "metadata": {},
   "outputs": [],
   "source": []
  }
 ],
 "metadata": {
  "kernelspec": {
   "display_name": "Python 3 (ipykernel)",
   "language": "python",
   "name": "python3"
  },
  "language_info": {
   "codemirror_mode": {
    "name": "ipython",
    "version": 3
   },
   "file_extension": ".py",
   "mimetype": "text/x-python",
   "name": "python",
   "nbconvert_exporter": "python",
   "pygments_lexer": "ipython3",
   "version": "3.9.2"
  }
 },
 "nbformat": 4,
 "nbformat_minor": 5
}
