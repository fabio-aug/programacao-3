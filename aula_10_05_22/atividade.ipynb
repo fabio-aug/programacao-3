{
 "cells": [
  {
   "cell_type": "markdown",
   "metadata": {},
   "source": [
    "Imports"
   ]
  },
  {
   "cell_type": "code",
   "execution_count": null,
   "metadata": {
    "id": "C-TalK1U_x62"
   },
   "outputs": [],
   "source": [
    "import os\n",
    "import pandas as pd"
   ]
  },
  {
   "cell_type": "markdown",
   "metadata": {},
   "source": [
    "Read files"
   ]
  },
  {
   "cell_type": "code",
   "execution_count": null,
   "metadata": {
    "id": "ZSn9_g_m0KFd"
   },
   "outputs": [],
   "source": [
    "pasta = os.walk('./charts')\n",
    "arquivosLocal = []\n",
    "for diretorio, subpastas, arquivos in pasta:\n",
    "  for arquivo in arquivos:\n",
    "    arquivosLocal.append(os.path.join(diretorio, arquivo))"
   ]
  },
  {
   "cell_type": "markdown",
   "metadata": {},
   "source": [
    "Create global dataFrame"
   ]
  },
  {
   "cell_type": "code",
   "execution_count": null,
   "metadata": {
    "colab": {
     "base_uri": "https://localhost:8080/",
     "height": 641
    },
    "id": "AhGFkpJyAp1Y",
    "outputId": "d28a825d-8749-45ee-88b1-6499138729fe"
   },
   "outputs": [],
   "source": [
    "dataFramesLocal = []\n",
    "for i in arquivosLocal:\n",
    "  dataFramesLocal.append(pd.read_csv(i, sep='\\t'))\n",
    "\n",
    "df = pd.concat(dataFramesLocal)\n",
    "df"
   ]
  },
  {
   "cell_type": "markdown",
   "metadata": {},
   "source": [
    "All músics number"
   ]
  },
  {
   "cell_type": "code",
   "execution_count": null,
   "metadata": {
    "colab": {
     "base_uri": "https://localhost:8080/"
    },
    "id": "ZRncF8b8BzVh",
    "outputId": "9fe268f5-d169-47db-a245-3b3311377a92"
   },
   "outputs": [],
   "source": [
    "all_num_music = len(df['Track'].unique())\n",
    "all_num_music"
   ]
  },
  {
   "cell_type": "markdown",
   "metadata": {},
   "source": [
    "Postition MIN MAX MED"
   ]
  },
  {
   "cell_type": "code",
   "execution_count": null,
   "metadata": {
    "colab": {
     "base_uri": "https://localhost:8080/",
     "height": 205
    },
    "id": "tRPTQ-xqHW14",
    "outputId": "5b42791d-4ad8-4e83-a36e-15ca2064d65c"
   },
   "outputs": [],
   "source": [
    "music_ranking = df.groupby(['Track'])['Position'].agg(['max','min','median'])\n",
    "music_ranking"
   ]
  },
  {
   "cell_type": "markdown",
   "metadata": {},
   "source": [
    "Date MIN MAX"
   ]
  },
  {
   "cell_type": "code",
   "execution_count": null,
   "metadata": {
    "id": "y1vjM2f4hhjD"
   },
   "outputs": [],
   "source": [
    "music_date = df.groupby(['Track'])['Date'].agg(['max','min'])\n",
    "music_date"
   ]
  }
 ],
 "metadata": {
  "colab": {
   "collapsed_sections": [],
   "name": "aula_10_05_22.ipynb",
   "provenance": []
  },
  "kernelspec": {
   "display_name": "Python 3 (ipykernel)",
   "language": "python",
   "name": "python3"
  },
  "language_info": {
   "codemirror_mode": {
    "name": "ipython",
    "version": 3
   },
   "file_extension": ".py",
   "mimetype": "text/x-python",
   "name": "python",
   "nbconvert_exporter": "python",
   "pygments_lexer": "ipython3",
   "version": "3.9.7"
  }
 },
 "nbformat": 4,
 "nbformat_minor": 1
}
