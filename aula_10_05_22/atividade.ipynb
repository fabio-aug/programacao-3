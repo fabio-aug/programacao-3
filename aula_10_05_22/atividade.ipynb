{
  "cells": [
    {
      "cell_type": "markdown",
      "metadata": {
        "id": "69iOgeYzMCiY"
      },
      "source": [
        "Imports"
      ]
    },
    {
      "cell_type": "code",
      "execution_count": null,
      "metadata": {
        "id": "C-TalK1U_x62"
      },
      "outputs": [],
      "source": [
        "import os\n",
        "import pandas as pd"
      ]
    },
    {
      "cell_type": "markdown",
      "metadata": {
        "id": "54UcyMltMCib"
      },
      "source": [
        "Read files"
      ]
    },
    {
      "cell_type": "code",
      "execution_count": null,
      "metadata": {
        "id": "ZSn9_g_m0KFd"
      },
      "outputs": [],
      "source": [
        "pasta = os.walk('./charts')\n",
        "arquivosLocal = []\n",
        "for diretorio, subpastas, arquivos in pasta:\n",
        "  for arquivo in arquivos:\n",
        "    arquivosLocal.append(os.path.join(diretorio, arquivo))"
      ]
    },
    {
      "cell_type": "markdown",
      "metadata": {
        "id": "e30BaFa6MCic"
      },
      "source": [
        "Create global dataFrame"
      ]
    },
    {
      "cell_type": "code",
      "execution_count": null,
      "metadata": {
        "id": "AhGFkpJyAp1Y"
      },
      "outputs": [],
      "source": [
        "dataFramesLocal = []\n",
        "for i in arquivosLocal:\n",
        "  dataFramesLocal.append(pd.read_csv(i, sep='\\t'))\n",
        "\n",
        "df = pd.concat(dataFramesLocal)\n",
        "df"
      ]
    },
    {
      "cell_type": "markdown",
      "metadata": {
        "id": "rZx1EoqBMCic"
      },
      "source": [
        "All músics number"
      ]
    },
    {
      "cell_type": "code",
      "execution_count": null,
      "metadata": {
        "id": "ZRncF8b8BzVh"
      },
      "outputs": [],
      "source": [
        "all_num_music = len(df['ID'].unique())\n",
        "all_num_music"
      ]
    },
    {
      "cell_type": "markdown",
      "metadata": {
        "id": "sEdgEfmUMCid"
      },
      "source": [
        "Postition MIN MAX MED"
      ]
    },
    {
      "cell_type": "code",
      "execution_count": null,
      "metadata": {
        "id": "tRPTQ-xqHW14"
      },
      "outputs": [],
      "source": [
        "music_ranking = df.groupby(['Track'])['Position'].agg(['max','min','median'])\n",
        "music_ranking"
      ]
    },
    {
      "cell_type": "markdown",
      "metadata": {
        "id": "p0qcj8QzMCie"
      },
      "source": [
        "Date MIN MAX"
      ]
    },
    {
      "cell_type": "code",
      "execution_count": null,
      "metadata": {
        "id": "y1vjM2f4hhjD"
      },
      "outputs": [],
      "source": [
        "music_date = df.groupby(['Track'])['Date'].agg(['max','min'])\n",
        "music_date"
      ]
    }
  ],
  "metadata": {
    "colab": {
      "collapsed_sections": [],
      "name": "atividade.ipynb",
      "provenance": []
    },
    "kernelspec": {
      "display_name": "Python 3",
      "language": "python",
      "name": "python3"
    },
    "language_info": {
      "codemirror_mode": {
        "name": "ipython",
        "version": 3
      },
      "file_extension": ".py",
      "mimetype": "text/x-python",
      "name": "python",
      "nbconvert_exporter": "python",
      "pygments_lexer": "ipython3",
      "version": "3.8.8"
    }
  },
  "nbformat": 4,
  "nbformat_minor": 0
}