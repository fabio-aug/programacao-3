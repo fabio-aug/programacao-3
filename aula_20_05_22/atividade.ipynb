{
 "cells": [
  {
   "cell_type": "code",
   "execution_count": 15,
   "id": "bd3ba54a",
   "metadata": {},
   "outputs": [],
   "source": [
    "class Stack:\n",
    "    def __init__(self, maxLen):\n",
    "        self.__maxLen = maxLen\n",
    "        self.__stack = []\n",
    "        \n",
    "    def push(self, value):\n",
    "        if (len(self.__stack) < self.__maxLen):\n",
    "            self.__stack.append(value)\n",
    "    \n",
    "    def pop(self):\n",
    "        if (len(self.__stack) > 0):\n",
    "            value = self.__stack.pop()\n",
    "            return value\n",
    "    \n",
    "    def isEmpty(self):\n",
    "        return len(self.__stack) == 0\n",
    "    \n",
    "    def __str__(self):\n",
    "        return str(f\"Pilha: {self.__stack}\")\n"
   ]
  },
  {
   "cell_type": "code",
   "execution_count": 17,
   "id": "b556a9b8",
   "metadata": {},
   "outputs": [
    {
     "name": "stdout",
     "output_type": "stream",
     "text": [
      "Pilha: [0, 1, 2, 3, 4, 5, 6, 7, 8, 9]\n",
      "Pilha: []\n"
     ]
    }
   ],
   "source": [
    "pilha = Stack(10)\n",
    "\n",
    "for i in range(0, 15, 1):\n",
    "    pilha.push(i)\n",
    "    \n",
    "print(pilha)\n",
    "\n",
    "for i in range(0, 15, 1):\n",
    "    pilha.pop()\n",
    "    \n",
    "print(pilha)"
   ]
  },
  {
   "cell_type": "code",
   "execution_count": 9,
   "id": "718d87b5",
   "metadata": {},
   "outputs": [
    {
     "name": "stdout",
     "output_type": "stream",
     "text": [
      "['Livro 1', 'Livro 2', 'Livro 3']\n",
      "Livro 3\n",
      "Livro 2\n",
      "Livro 1\n",
      "[]\n"
     ]
    }
   ],
   "source": [
    "pilha_de_livros = []\n",
    "\n",
    "pilha_de_livros.append('Livro 1')\n",
    "pilha_de_livros.append('Livro 2')\n",
    "pilha_de_livros.append('Livro 3')\n",
    "\n",
    "print(pilha_de_livros)\n",
    "\n",
    "for i in range(0, 10, 1):\n",
    "    if (len(pilha_de_livros) > 0):\n",
    "        value = pilha_de_livros.pop()\n",
    "        print(value)\n",
    "\n",
    "print(pilha_de_livros)"
   ]
  },
  {
   "cell_type": "code",
   "execution_count": 18,
   "id": "0e571f63",
   "metadata": {},
   "outputs": [
    {
     "name": "stdout",
     "output_type": "stream",
     "text": [
      "Livro 1\n",
      "Livro 2\n"
     ]
    }
   ],
   "source": [
    "fila_de_livros = []\n",
    "\n",
    "fila_de_livros.append('Livro 1')\n",
    "fila_de_livros.append('Livro 2')\n",
    "fila_de_livros.append('Livro 3')\n",
    "\n",
    "value = fila_de_livros.pop(0)\n",
    "print(value)\n",
    "value = fila_de_livros.pop(0)\n",
    "print(value)"
   ]
  },
  {
   "cell_type": "code",
   "execution_count": 21,
   "id": "5f204012",
   "metadata": {},
   "outputs": [
    {
     "name": "stdout",
     "output_type": "stream",
     "text": [
      "deque(['a', 'b', 'c', 'd'])\n",
      "Value: a \n",
      "Array: deque(['b', 'c', 'd'])\n"
     ]
    }
   ],
   "source": [
    "from collections import deque\n",
    "\n",
    "fila = deque(['a', 'b', 'c'])\n",
    "\n",
    "fila.append('d')\n",
    "\n",
    "print(fila)\n",
    "\n",
    "value = fila.popleft()\n",
    "\n",
    "print(f\"Value: {value} \\nArray: {fila}\")"
   ]
  },
  {
   "cell_type": "code",
   "execution_count": null,
   "id": "07956ed9",
   "metadata": {},
   "outputs": [],
   "source": [
    "class Queue:\n",
    "    def __init__(self, maxLen):\n",
    "        self.__maxLen = maxLen\n",
    "        self.__index = 0\n",
    "        self.__queue = [0] * maxLen\n",
    "        \n",
    "    def push(self, value):\n",
    "        if (self.__index < self.__maxLen):\n",
    "            self.__queue[self.__index] = value\n",
    "            self.__index += 1\n",
    "        else:\n",
    "            print(\"Fila lotada!\")\n",
    "    \n",
    "    def pop(self):\n",
    "        if (len(self.__queue) > 0):\n",
    "            self.__index -= 1\n",
    "            value = self.__queue[0]\n",
    "            self.__queue[0] = ''\n",
    "            return value\n",
    "        else:\n",
    "            print(\"Fila vazia!\")\n",
    "            \n",
    "\n",
    "    def isEmpty(self):\n",
    "        return len(self.__queue) == 0\n",
    "    \n",
    "    def __str__(self):\n",
    "        return str(f\"Fila: {self.__queue}\")"
   ]
  }
 ],
 "metadata": {
  "kernelspec": {
   "display_name": "Python 3",
   "language": "python",
   "name": "python3"
  },
  "language_info": {
   "codemirror_mode": {
    "name": "ipython",
    "version": 3
   },
   "file_extension": ".py",
   "mimetype": "text/x-python",
   "name": "python",
   "nbconvert_exporter": "python",
   "pygments_lexer": "ipython3",
   "version": "3.8.8"
  }
 },
 "nbformat": 4,
 "nbformat_minor": 5
}
