{
 "cells": [
  {
   "cell_type": "markdown",
   "id": "2a52aa2e-e566-49ea-83f4-48465d072c85",
   "metadata": {},
   "source": [
    "Create class"
   ]
  },
  {
   "cell_type": "code",
   "execution_count": null,
   "id": "18fa5436-467c-41d4-aee2-69642cf4625c",
   "metadata": {
    "tags": []
   },
   "outputs": [],
   "source": [
    "class Aluno:\n",
    "    def __init__(self, cpf, nome, curso):\n",
    "        self.__cpf = cpf\n",
    "        self.__nome = nome\n",
    "        self.__curso = curso\n",
    "        self.__periodoCursado = {}\n",
    "        \n",
    "    def getCpf(self):\n",
    "        return self.__cpf\n",
    "    \n",
    "    def getNome(self):\n",
    "        return self.__nome\n",
    "    \n",
    "    def getCurso(self):\n",
    "        return self.__curso\n",
    "    \n",
    "    def getPeriodoCursado(self):\n",
    "        return self.__periodoCursado\n",
    "    \n",
    "    def __str__(self):\n",
    "        return str(f\"--- Aluno ---\\nCPF: {self.__cpf} \\nNome: {self.__nome} \\nCurso: {self.__curso}\")"
   ]
  },
  {
   "cell_type": "code",
   "execution_count": null,
   "id": "aea56605-17ba-4475-b0e1-9c04fb4f5f5e",
   "metadata": {
    "tags": []
   },
   "outputs": [],
   "source": [
    "aluno1 = Aluno('111.111.111.11', 'Aluno 1', 'Curso')\n",
    "print(aluno1)"
   ]
  }
 ],
 "metadata": {
  "kernelspec": {
   "display_name": "Python 3 (ipykernel)",
   "language": "python",
   "name": "python3"
  },
  "language_info": {
   "codemirror_mode": {
    "name": "ipython",
    "version": 3
   },
   "file_extension": ".py",
   "mimetype": "text/x-python",
   "name": "python",
   "nbconvert_exporter": "python",
   "pygments_lexer": "ipython3",
   "version": "3.9.2"
  }
 },
 "nbformat": 4,
 "nbformat_minor": 5
}
