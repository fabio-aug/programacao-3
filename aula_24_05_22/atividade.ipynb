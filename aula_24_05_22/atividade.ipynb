{
 "cells": [
  {
   "cell_type": "code",
   "execution_count": 46,
   "id": "9a4127e4",
   "metadata": {},
   "outputs": [],
   "source": [
    "class Node:\n",
    "    def __init__(self, value, beforeNode, nextNode):\n",
    "        self.__value = value\n",
    "        self.__next = nextNode\n",
    "        self.__before = beforeNode\n",
    "        \n",
    "    def getValue(self):\n",
    "        return self.__value\n",
    "        \n",
    "    def getNext(self):\n",
    "        return self.__next\n",
    "        \n",
    "    def getBefore(self):\n",
    "        return self.__before\n",
    "    \n",
    "    def changeValue(self, value):\n",
    "        self.__value = value\n",
    "    \n",
    "    def changeNext(self, value):\n",
    "        self.__next = value\n",
    "        \n",
    "    def changeBefore(self, value):\n",
    "        self.__before = value\n",
    "    \n",
    "    def __str__(self):\n",
    "        return str(f\"Node: {self.__value} - {self.__next} - {self.__before}\")"
   ]
  },
  {
   "cell_type": "code",
   "execution_count": 53,
   "id": "a42bf9bf",
   "metadata": {},
   "outputs": [],
   "source": [
    "class NodeList:\n",
    "    def __init__(self, maxLen):\n",
    "        self.__nodeList = []\n",
    "        self.__maxLen = maxLen\n",
    "        \n",
    "    def addNode(self, value):\n",
    "        listLen = len(self.__nodeList)\n",
    "        if (listLen == 0):\n",
    "            self.__nodeList.append(Node(value, None, None))\n",
    "        else:\n",
    "            beforeNode = self.__nodeList[listLen - 1]\n",
    "            self.__nodeList.append(Node(value, beforeNode, None))\n",
    "            self.__nodeList[listLen - 1].changeNext(self.__nodeList[listLen])\n",
    "        \n",
    "    def __str__(self):\n",
    "        concactValue = '[ '\n",
    "        currentNode = self.__nodeList[0]\n",
    "        while True:\n",
    "            corre\n",
    "            if (node.getNext() != None):\n",
    "                concactValue += str(node.getValue()) + \" -> \" + str(node.getNext().getValue())\n",
    "            else:\n",
    "                concactValue += \" -> \" + str(node.getNext())\n",
    "        for node in self.__nodeList:\n",
    "            \n",
    "        concactValue += ' ]'\n",
    "            \n",
    "        return concactValue"
   ]
  },
  {
   "cell_type": "code",
   "execution_count": 54,
   "id": "799a8bd4",
   "metadata": {},
   "outputs": [
    {
     "name": "stdout",
     "output_type": "stream",
     "text": [
      "[ 10 -> 11 -> None ]\n"
     ]
    }
   ],
   "source": [
    "listItens = NodeList(5)\n",
    "\n",
    "listItens.addNode(10)\n",
    "listItens.addNode(11)\n",
    "\n",
    "print(listItens)\n",
    "\n"
   ]
  }
 ],
 "metadata": {
  "kernelspec": {
   "display_name": "Python 3",
   "language": "python",
   "name": "python3"
  },
  "language_info": {
   "codemirror_mode": {
    "name": "ipython",
    "version": 3
   },
   "file_extension": ".py",
   "mimetype": "text/x-python",
   "name": "python",
   "nbconvert_exporter": "python",
   "pygments_lexer": "ipython3",
   "version": "3.8.8"
  }
 },
 "nbformat": 4,
 "nbformat_minor": 5
}
