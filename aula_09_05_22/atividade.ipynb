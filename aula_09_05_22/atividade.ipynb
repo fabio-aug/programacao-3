{
 "cells": [
  {
   "cell_type": "code",
   "execution_count": null,
   "metadata": {
    "id": "oJNSY51EFBuh"
   },
   "outputs": [],
   "source": [
    "import pandas as pd"
   ]
  },
  {
   "cell_type": "code",
   "execution_count": null,
   "metadata": {
    "colab": {
     "base_uri": "https://localhost:8080/",
     "height": 143
    },
    "executionInfo": {
     "elapsed": 260,
     "status": "ok",
     "timestamp": 1652104905507,
     "user": {
      "displayName": "Fabio Araujo",
      "userId": "03404674822960607555"
     },
     "user_tz": 180
    },
    "id": "etc8aOabHVl7",
    "outputId": "4848d1cc-4137-42a5-89b6-1f00cfe795cc"
   },
   "outputs": [],
   "source": [
    "df = pd.DataFrame([\n",
    "  ['A', 0],\n",
    "  ['B', 1],\n",
    "  ['C', 2]\n",
    "])\n",
    "df"
   ]
  },
  {
   "cell_type": "code",
   "execution_count": null,
   "metadata": {
    "colab": {
     "base_uri": "https://localhost:8080/",
     "height": 143
    },
    "executionInfo": {
     "elapsed": 322,
     "status": "ok",
     "timestamp": 1652105314434,
     "user": {
      "displayName": "Fabio Araujo",
      "userId": "03404674822960607555"
     },
     "user_tz": 180
    },
    "id": "nAqoOwedI8Ay",
    "outputId": "df3d2210-51b4-499f-c20e-26b1517c48d1"
   },
   "outputs": [],
   "source": [
    "data = [[\"A\", 1 ], [\"B\", 2], [\"C\", 3]]\n",
    "\n",
    "df = pd.DataFrame(data, columns=[\"Letra\", \"Número\"])\n",
    "df"
   ]
  },
  {
   "cell_type": "code",
   "execution_count": null,
   "metadata": {
    "colab": {
     "base_uri": "https://localhost:8080/",
     "height": 175
    },
    "executionInfo": {
     "elapsed": 262,
     "status": "ok",
     "timestamp": 1652106043994,
     "user": {
      "displayName": "Fabio Araujo",
      "userId": "03404674822960607555"
     },
     "user_tz": 180
    },
    "id": "sppWYRoSKsdA",
    "outputId": "7bfab7ac-8f4a-4b02-cac0-c5b50a0f2f4d"
   },
   "outputs": [],
   "source": [
    "dicionario = {\n",
    "    'Nome' : ['Rodrigo',  'Fábio', 'Luana', 'Vinicius'],\n",
    "    'Idade' : [19, 19, 19, 19]\n",
    "};\n",
    "\n",
    "df = pd.DataFrame(dicionario)\n",
    "\n",
    "df"
   ]
  },
  {
   "cell_type": "code",
   "execution_count": null,
   "metadata": {
    "colab": {
     "base_uri": "https://localhost:8080/",
     "height": 175
    },
    "executionInfo": {
     "elapsed": 286,
     "status": "ok",
     "timestamp": 1652106387108,
     "user": {
      "displayName": "Fabio Araujo",
      "userId": "03404674822960607555"
     },
     "user_tz": 180
    },
    "id": "OK-DvLafJaOF",
    "outputId": "8016b904-6f0d-4143-b3ac-2a981cc23b18"
   },
   "outputs": [],
   "source": [
    "dicionario = {\n",
    "    'Nome' : ['Rodrigo',  'Fábio', 'Luana', 'Vinicius'],\n",
    "    'Idade' : [19, 19, 19, 19]\n",
    "}\n",
    "\n",
    "df = pd.DataFrame(dicionario, index=['Aluno 1', 'Aluno 2', 'Aluno 3', 'Aluno 4',])\n",
    "\n",
    "df"
   ]
  },
  {
   "cell_type": "code",
   "execution_count": null,
   "metadata": {
    "colab": {
     "base_uri": "https://localhost:8080/",
     "height": 112
    },
    "executionInfo": {
     "elapsed": 538,
     "status": "ok",
     "timestamp": 1652106586068,
     "user": {
      "displayName": "Fabio Araujo",
      "userId": "03404674822960607555"
     },
     "user_tz": 180
    },
    "id": "zTgpOSurNn6C",
    "outputId": "c113bd77-ee11-4882-b259-c778910aa8f3"
   },
   "outputs": [],
   "source": [
    "dicionario = [\n",
    "  { 'Nome' : 'Rodrigo', 'Idade' : 5 },\n",
    "  { 'Nome' : 'Borges', 'Idade' : 25 }\n",
    "]\n",
    "\n",
    "df = pd.DataFrame(dicionario)\n",
    "\n",
    "df"
   ]
  },
  {
   "cell_type": "code",
   "execution_count": null,
   "metadata": {
    "colab": {
     "base_uri": "https://localhost:8080/"
    },
    "executionInfo": {
     "elapsed": 261,
     "status": "ok",
     "timestamp": 1652107625570,
     "user": {
      "displayName": "Fabio Araujo",
      "userId": "03404674822960607555"
     },
     "user_tz": 180
    },
    "id": "D-nsTMfzQLUp",
    "outputId": "e500b41f-eb48-4d2e-e1d0-d42f96574e2f"
   },
   "outputs": [],
   "source": [
    "dicionario = {\n",
    "    'Nome' : ['Rodrigo',  'Fábio', 'Luana', 'Vinicius'],\n",
    "    'Idade' : [19, 19, 19, 19]\n",
    "}\n",
    "\n",
    "df = pd.DataFrame(dicionario)\n",
    "\n",
    "#df.shape\n",
    "\n",
    "#df.index\n",
    "\n",
    "#df.columns = ['2', '1']\n",
    "#df.columns\n",
    "\n",
    "df.dtypes"
   ]
  },
  {
   "cell_type": "code",
   "execution_count": null,
   "metadata": {
    "id": "r8Yv16ryRu2B"
   },
   "outputs": [],
   "source": [
    "dicionario = {\n",
    "    'Nome' : ['Rodrigo',  'Fábio', 'Luana', 'Vinicius'],\n",
    "    'Idade' : [19, 19, 19, 19]\n",
    "}\n",
    "\n",
    "df = pd.DataFrame(dicionario)\n",
    "\n",
    "df\n",
    "\n",
    "df.to_csv('teste.csv')"
   ]
  }
 ],
 "metadata": {
  "colab": {
   "authorship_tag": "ABX9TyMe7M9iasRms8RRHDxtONgW",
   "name": "aula_09_05_22.ipynb",
   "provenance": []
  },
  "kernelspec": {
   "display_name": "Python 3 (ipykernel)",
   "language": "python",
   "name": "python3"
  },
  "language_info": {
   "codemirror_mode": {
    "name": "ipython",
    "version": 3
   },
   "file_extension": ".py",
   "mimetype": "text/x-python",
   "name": "python",
   "nbconvert_exporter": "python",
   "pygments_lexer": "ipython3",
   "version": "3.9.7"
  }
 },
 "nbformat": 4,
 "nbformat_minor": 1
}
