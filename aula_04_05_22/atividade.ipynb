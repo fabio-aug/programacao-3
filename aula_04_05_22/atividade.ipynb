{
 "cells": [
  {
   "cell_type": "code",
   "execution_count": null,
   "metadata": {},
   "outputs": [],
   "source": [
    "import os\n",
    "import pickle"
   ]
  },
  {
   "cell_type": "code",
   "execution_count": null,
   "metadata": {
    "id": "zqZ8CCTBnDl7"
   },
   "outputs": [],
   "source": [
    "arquivo = open('teste.txt', 'w');\n",
    "texto = \"\"\"A - Carro\n",
    "B - Moto\n",
    "C - Barco\n",
    "D - Avião\"\"\";\n",
    "\n",
    "arquivo.write(texto);\n",
    "arquivo.close();"
   ]
  },
  {
   "cell_type": "code",
   "execution_count": null,
   "metadata": {
    "id": "YpDhPNVTpJ4w"
   },
   "outputs": [],
   "source": [
    "arquivo = open('teste.txt', 'r');\n",
    "texto = arquivo.read();\n",
    "print(texto);\n",
    "arquivo.close();"
   ]
  },
  {
   "cell_type": "code",
   "execution_count": null,
   "metadata": {
    "id": "pF1krD1gqgSY"
   },
   "outputs": [],
   "source": [
    "arquivo = open('teste.txt', 'r');\n",
    "texto = arquivo.readlines();\n",
    "for linha in texto:\n",
    "  print(linha)\n",
    "arquivo.close();"
   ]
  },
  {
   "cell_type": "code",
   "execution_count": null,
   "metadata": {
    "id": "1JzjJC8Dr0lq"
   },
   "outputs": [],
   "source": [
    "if (os.path.exists('teste.txt')):\n",
    "  os.remove('teste.txt');"
   ]
  },
  {
   "cell_type": "code",
   "execution_count": null,
   "metadata": {
    "id": "rnLRsB0MsyqG"
   },
   "outputs": [],
   "source": [
    "texto = \"\"\"\n",
    "Japão\n",
    "Brasil\n",
    "India\n",
    "México\n",
    "China\n",
    "Alemanha\n",
    "\"\"\"\n",
    "arquivo1 = open('paises1.txt', 'w');\n",
    "\n",
    "for pais in texto:\n",
    "  arquivo1.write(pais);\n",
    "\n",
    "arquivo1.close();\n",
    "\n",
    "arquivo1 = open('paises1.txt', 'r');\n",
    "paises = arquivo1.read();\n",
    "\n",
    "arquivo2 = open('paises2.txt', 'w');\n",
    "arquivo2.write(paises);\n",
    "arquivo2.close();\n"
   ]
  },
  {
   "cell_type": "code",
   "execution_count": null,
   "metadata": {
    "id": "11y9izzAv6GL"
   },
   "outputs": [],
   "source": [
    "arquivo = open('bin.bin', 'wb');\n",
    "arquivo.write(b'Criando primeiro arquivo binario');\n",
    "arquivo.close();"
   ]
  },
  {
   "cell_type": "code",
   "execution_count": null,
   "metadata": {
    "id": "jQUw68cdwpxJ"
   },
   "outputs": [],
   "source": [
    "arquivo = open('bin.bin', 'rb');\n",
    "print(arquivo.read());\n",
    "arquivo.close();"
   ]
  },
  {
   "cell_type": "code",
   "execution_count": null,
   "metadata": {
    "id": "ka-pnglsxqcd"
   },
   "outputs": [],
   "source": [
    "if (os.path.exists('bin.bin')):\n",
    "  os.remove('bin.bin');"
   ]
  },
  {
   "cell_type": "code",
   "execution_count": null,
   "metadata": {
    "id": "S_tm2fT8yPob"
   },
   "outputs": [],
   "source": [
    "arquivo = open('bin.bin', 'wb')\n",
    "lista = [1, 2, 3]\n",
    "pickle.dump(lista, arquivo)\n",
    "arquivo.close()"
   ]
  },
  {
   "cell_type": "code",
   "execution_count": null,
   "metadata": {
    "colab": {
     "background_save": true,
     "base_uri": "https://localhost:8080/"
    },
    "executionInfo": {
     "elapsed": 257,
     "status": "ok",
     "timestamp": 1651663188074,
     "user": {
      "displayName": "Fabio Araujo",
      "userId": "03404674822960607555"
     },
     "user_tz": 180
    },
    "id": "Th0iTwY2y-Nq",
    "outputId": "0a97d53b-a13a-4f2f-b12b-db3b79d50a64"
   },
   "outputs": [],
   "source": [
    "arquivo = open('bin.bin', 'rb')\n",
    "texto = pickle.load(arquivo)\n",
    "print(texto)\n",
    "arquivo.close()"
   ]
  },
  {
   "cell_type": "code",
   "execution_count": null,
   "metadata": {
    "colab": {
     "base_uri": "https://localhost:8080/"
    },
    "executionInfo": {
     "elapsed": 16212,
     "status": "ok",
     "timestamp": 1651707849895,
     "user": {
      "displayName": "Fabio Araujo",
      "userId": "03404674822960607555"
     },
     "user_tz": 180
    },
    "id": "IMaAjJenzYrf",
    "outputId": "c0b2ebf5-6476-459e-afb0-0c1999248e81"
   },
   "outputs": [],
   "source": [
    "arquivo = open('bin.bin', 'wb')\n",
    "text = ''\n",
    "text = input(\"Informe o nome do aluno: \")\n",
    "\n",
    "qtdNotas = int(input(\"Informe a quantidade de notas do aluno: \"))\n",
    "text = text + '\\nNotas: '\n",
    "for i in range(qtdNotas):\n",
    "    nota = input(\"Informe a nota: \")\n",
    "    text = text + \"\\n     Nota(\" + str(i+1) + \"): \" + nota\n",
    "\n",
    "pickle.dump(text, arquivo)\n",
    "arquivo.close()"
   ]
  },
  {
   "cell_type": "code",
   "execution_count": null,
   "metadata": {},
   "outputs": [],
   "source": [
    "arquivo = open('bin.bin', 'rb')\n",
    "texto = pickle.load(arquivo)\n",
    "print(texto)\n",
    "arquivo.close()"
   ]
  }
 ],
 "metadata": {
  "colab": {
   "authorship_tag": "ABX9TyNt6je8XH87cM61D3b8jrR7",
   "name": "aula-04-05-2022.ipynb",
   "provenance": []
  },
  "kernelspec": {
   "display_name": "Python 3 (ipykernel)",
   "language": "python",
   "name": "python3"
  },
  "language_info": {
   "codemirror_mode": {
    "name": "ipython",
    "version": 3
   },
   "file_extension": ".py",
   "mimetype": "text/x-python",
   "name": "python",
   "nbconvert_exporter": "python",
   "pygments_lexer": "ipython3",
   "version": "3.9.7"
  }
 },
 "nbformat": 4,
 "nbformat_minor": 1
}
